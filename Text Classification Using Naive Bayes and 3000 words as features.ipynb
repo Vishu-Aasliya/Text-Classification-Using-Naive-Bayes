{
 "cells": [
  {
   "cell_type": "markdown",
   "id": "027de2d2",
   "metadata": {},
   "source": [
    "# Text Classification Using Multinomial Naive Bayes"
   ]
  },
  {
   "cell_type": "code",
   "execution_count": 1,
   "id": "040b21b9",
   "metadata": {},
   "outputs": [],
   "source": [
    "#Various models required\n",
    "import numpy as np\n",
    "import pandas as pd\n",
    "import operator\n",
    "import os,sys\n",
    "from sklearn import model_selection\n",
    "import re,string"
   ]
  },
  {
   "cell_type": "markdown",
   "id": "75866b4c",
   "metadata": {},
   "source": [
    "### Defining Stop Words"
   ]
  },
  {
   "cell_type": "code",
   "execution_count": 2,
   "id": "aea80885",
   "metadata": {},
   "outputs": [],
   "source": [
    "#These are very commonly used words found in all documents and also called as stop words.\n",
    "stop_word=[\"a\",\"about\",\"above\",\"after\",\"again\",\"against\",\"all\",\"am\",\"an\",\"and\",\"any\",\"are\",\"as\",\"at\",\"be\",\"because\",\"been\",\"before\",\"being\",\"below\",\"between\",\"both\",\"but\",\n",
    "\"by\",\"could\",\"did\",\"do\",\"does\",\"doing\",\"down\",\"during\",\"each\",\"few\",\"for\",\"from\",\"further\",\"had\",\"has\",\"have\",\"having\",\"he\",\"he'd\",\"he'll\",\"he's\",\"her\",\n",
    "\"here\",\"here's\",\"hers\",\"herself\",\"him\",\"himself\",\"his\",\"how\",\"how's\",\"i\",\"i'd\",\"i'll\",\"i'm\",\"i've\",\"if\",\"in\",\"into\",\"is\",\"it\",\"it's\",\"its\",\"itself\",\"let's\",\"me\",\n",
    "\"more\",\"most\",\"my\",\"myself\",\"nor\",\"of\",\"on\",\"once\",\"only\",\"or\",\"other\",\"ought\",\"our\",\"ours\",\"ourselves\",\"out\",\"over\",\"own\",\"same\",\"she\",\n",
    "\"she'd\",\"she'll\",\"she's\",\"should\",\"so\",\"some\",\"such\",\"than\",\"that\",\"that's\",\"the\",\"their\",\"theirs\",\"them\",\"themselves\",\"then\",\"there\",\"there's\",\n",
    "\"these\",\"they\",\"they'd\",\"they'll\",\"they're\",\"they've\",\"this\",\"those\",\"through\",\"to\",\"too\",\"under\",\"until\",\"up\",\"very\",\"was\",\"we\",\"we'd\",\n",
    "\"we'll\",\"we're\",\"we've\",\"were\",\"what\",\"what's\",\"when\",\"when's\",\"where\",\"where's\",\"which\",\"while\",\"who\",\"who's\",\"whom\",\"why\",\"why's\",\"with\",\n",
    "\"would\",\"you\",\"you'd\",\"you'll\",\"you're\",\"you've\",\"your\",\"yours\",\"yourself\",\"yourselves\"]"
   ]
  },
  {
   "cell_type": "markdown",
   "id": "38576aeb",
   "metadata": {},
   "source": [
    "### Reading data from Dataset Folder and saving in X and Y"
   ]
  },
  {
   "cell_type": "code",
   "execution_count": 3,
   "id": "df174d44",
   "metadata": {},
   "outputs": [],
   "source": [
    "#X is a list further made in form of tuple , where first element is name of document and second is the text in documents.\n",
    "#Y is the category\n",
    "\n",
    "X  =[] \n",
    "Y = []\n",
    "for category in os.listdir(\"D:\\Coding\\ML\\TEXT CLASSIFICATION PROJECT\\Datasets\"):\n",
    "    for document in os.listdir(\"D:\\Coding\\ML\\TEXT CLASSIFICATION PROJECT\\Datasets/\"+category):\n",
    "        with open(\"D:\\Coding\\ML\\TEXT CLASSIFICATION PROJECT\\Datasets/\"+category+'/'+document, \"r\") as f:\n",
    "            X.append((document,f.read()))\n",
    "            Y.append(category)"
   ]
  },
  {
   "cell_type": "code",
   "execution_count": 4,
   "id": "26b99b78",
   "metadata": {},
   "outputs": [
    {
     "name": "stdout",
     "output_type": "stream",
     "text": [
      "<class 'list'>\n",
      "<class 'tuple'>\n",
      "<class 'str'>\n",
      "<class 'str'>\n",
      "<class 'list'>\n"
     ]
    }
   ],
   "source": [
    "#DataType of X and Y in detail\n",
    "print(type(X))\n",
    "print(type(X[0]))\n",
    "print(type(X[0][0]))\n",
    "print(type(X[0][1]))\n",
    "print(type(Y))"
   ]
  },
  {
   "cell_type": "markdown",
   "id": "ed72a038",
   "metadata": {},
   "source": [
    "### Split data into test and train data "
   ]
  },
  {
   "cell_type": "code",
   "execution_count": 5,
   "id": "91de6a83",
   "metadata": {},
   "outputs": [],
   "source": [
    "#splitting the data in training and testing\n",
    "x_train,x_test,y_train,y_test=model_selection.train_test_split(X,Y)"
   ]
  },
  {
   "cell_type": "code",
   "execution_count": 6,
   "id": "b4110aa2",
   "metadata": {},
   "outputs": [
    {
     "name": "stdout",
     "output_type": "stream",
     "text": [
      "14997\n",
      "5000\n"
     ]
    }
   ],
   "source": [
    "#split has done in nearly 3:1 ratio\n",
    "print(len(x_train))\n",
    "print(len(x_test))"
   ]
  },
  {
   "cell_type": "markdown",
   "id": "ce949285",
   "metadata": {},
   "source": [
    "### Making a dictionary to store the word count of all words occuring in text"
   ]
  },
  {
   "cell_type": "code",
   "execution_count": 7,
   "id": "7e96ebb1",
   "metadata": {},
   "outputs": [],
   "source": [
    "#Making Dictionary of words with their corresponding frequency\n",
    "dic={}\n",
    "\n",
    "for i in range(len(x_train)):\n",
    "    # Took [1] because [0] is name of doc and [1] is text in doc\n",
    "    # word contains the entire text\n",
    "    word=x_train[i][1].lower()\n",
    "    \n",
    "    # splitting the text into words\n",
    "    # Example \"Hey! there, How are you?\" is split into ['Hey', 'there', 'How', 'are', 'you', '']\n",
    "    stripped=re.split(r'\\W+',word)\n",
    "    \n",
    "    #Iterating over each word\n",
    "    for s in stripped:\n",
    "        \n",
    "        #ignoring stop_words, alpha-numerics, punctuations or irrelevant word of length less than 2 in our dictionary\n",
    "        if not(s.isalpha()) or s in stop_word or len(s)<=2:\n",
    "            continue\n",
    "        \n",
    "        if s in dic:\n",
    "            dic[s]+=1\n",
    "        \n",
    "        else:\n",
    "            dic[s]=1"
   ]
  },
  {
   "cell_type": "code",
   "execution_count": 8,
   "id": "4f2c1720",
   "metadata": {},
   "outputs": [],
   "source": [
    "#Sorting the dictionary on basis of frequency of words in descending order\n",
    "sorted_dic = sorted(dic.items(), key=operator.itemgetter(1),reverse=True)"
   ]
  },
  {
   "cell_type": "markdown",
   "id": "be86a6d5",
   "metadata": {},
   "source": [
    "### Plotting a graph (words vs frequency) to choose the top 'k' words"
   ]
  },
  {
   "cell_type": "code",
   "execution_count": 9,
   "id": "062df4de",
   "metadata": {},
   "outputs": [],
   "source": [
    "import matplotlib.pyplot as plt"
   ]
  },
  {
   "cell_type": "code",
   "execution_count": 10,
   "id": "2232c621",
   "metadata": {},
   "outputs": [
    {
     "data": {
      "image/png": "[encoded data removed]",
      "text/plain": [
       "<Figure size 640x480 with 1 Axes>"
      ]
     },
     "metadata": {},
     "output_type": "display_data"
    }
   ],
   "source": [
    "#Plotting graph on no. of words vs frequency \n",
    "#On basis of graph we can decide the number of features we want to take\n",
    "features=sorted_dic\n",
    "answer1=[] #It will contain the word number\n",
    "answer2=[] #It will contain the frequency of ith word\n",
    "for i in range(len(features)):\n",
    "    answer1.append(i)\n",
    "    answer2.append(features[i][1])\n",
    "plt.plot(answer1,answer2)\n",
    "plt.xlabel(\"(i)th word\")\n",
    "plt.ylabel(\"frequency of (i)th word\")\n",
    "plt.axis([0,8000,1,5000])\n",
    "plt.grid()\n",
    "plt.show()   "
   ]
  },
  {
   "cell_type": "markdown",
   "id": "528d2be5",
   "metadata": {},
   "source": [
    "## Using top 3000 words as features"
   ]
  },
  {
   "cell_type": "code",
   "execution_count": 11,
   "id": "9d064982",
   "metadata": {},
   "outputs": [],
   "source": [
    "#We decided to take top 2000 words with max freuqency as our feature\n",
    "#here feature list is answer1\n",
    "answer1=[features[i][0] for i in range(3000)]"
   ]
  },
  {
   "cell_type": "markdown",
   "id": "ab9bb5f0",
   "metadata": {},
   "source": [
    "### Making 2D array of number of words occuring in ith text"
   ]
  },
  {
   "cell_type": "code",
   "execution_count": 12,
   "id": "cdc05b83",
   "metadata": {},
   "outputs": [],
   "source": [
    "#Making x_train dataset\n",
    "#No. of rows is equivalent to rows in x_train, and column is equal to length of answer1(feature list)\n",
    "x_train_dataset=np.zeros([len(x_train),len(answer1)],int)\n",
    "for i in range(len(x_train)):\n",
    "    words=x_train[i][1].lower()\n",
    "    word=re.split(r'\\W+',words)\n",
    "    #Iterating over each word\n",
    "    for j in word:\n",
    "        #We will add the frequency corresponding to that word only which is in our answer1(feature list)\n",
    "        if j in answer1:\n",
    "            x_train_dataset[i][answer1.index(j)]+=1"
   ]
  },
  {
   "cell_type": "code",
   "execution_count": 13,
   "id": "3e6f9377",
   "metadata": {},
   "outputs": [],
   "source": [
    "#Making x_test dataset\n",
    "#No. of rows is equivalent to rows in x_test, and column is equal to length of answer1(feature list)\n",
    "x_test_dataset=np.zeros([len(x_test),len(answer1)],int)\n",
    "for i in range(len(x_test)):\n",
    "    words=x_test[i][1].lower()\n",
    "    word=re.split(r'\\W+',words)\n",
    "    #Iterating over each word\n",
    "    for j in word:\n",
    "        #We will add the frequency corresponding to that word only which is in our answer1(feature list)\n",
    "        if j in answer1:\n",
    "            x_test_dataset[i][answer1.index(j)]+=1"
   ]
  },
  {
   "cell_type": "markdown",
   "id": "5b55021a",
   "metadata": {},
   "source": [
    "### Use inbuilt Multinomial Naive Bayes to make predictions"
   ]
  },
  {
   "cell_type": "code",
   "execution_count": 14,
   "id": "70987f0e",
   "metadata": {},
   "outputs": [],
   "source": [
    "from sklearn.naive_bayes import MultinomialNB\n",
    "from sklearn.metrics import classification_report,confusion_matrix,accuracy_score"
   ]
  },
  {
   "cell_type": "code",
   "execution_count": 15,
   "id": "d0690753",
   "metadata": {},
   "outputs": [
    {
     "name": "stdout",
     "output_type": "stream",
     "text": [
      "Score on training data: 0.9061145562445823\n",
      "Score on testing data: 0.8574\n",
      "[[201   0   0   0   1   0   0   0   2   1   0   0   0   1   0   3   0   2\n",
      "    0  43]\n",
      " [  0 187  12  15   9   8   9   2   2   1   0   0   4   4   0   0   0   0\n",
      "    0   0]\n",
      " [  0   2 211  17   7  19   5   0   0   0   0   0   0   0   0   0   0   0\n",
      "    0   0]\n",
      " [  0   1   3 203  25   1   6   0   0   0   0   0   5   0   0   0   0   0\n",
      "    0   0]\n",
      " [  0   1   2  13 208   1   3   0   0   0   0   0   1   0   1   0   0   0\n",
      "    0   0]\n",
      " [  0  22  21   4   5 188   2   0   3   0   0   1   3   0   0   0   0   0\n",
      "    0   0]\n",
      " [  0   0   0   6   3   2 240   5   1   1   0   0   1   0   0   0   0   0\n",
      "    1   0]\n",
      " [  0   0   0   1   0   0   3 210   9   0   1   0   1   0   1   0   0   0\n",
      "    0   0]\n",
      " [  0   0   0   0   0   0   9   6 237   0   0   0   0   0   0   0   0   0\n",
      "    0   0]\n",
      " [  0   0   0   0   0   0   3   0   2 230   6   0   0   0   0   0   0   0\n",
      "    0   0]\n",
      " [  0   0   0   0   0   0   1   1   3   4 234   0   0   1   0   0   0   0\n",
      "    1   0]\n",
      " [  0   3   1   0   0   0   1   1   0   0   0 237   2   0   0   0   1   0\n",
      "    1   0]\n",
      " [  0   3   1   6  11   0   4   6   1   0   0   0 202   1   1   0   0   0\n",
      "    0   0]\n",
      " [  0   3   1   0   3   0   5   2   5   1   0   0   6 250   2   0   0   0\n",
      "    1   1]\n",
      " [  0   5   0   0   1   0   1   2   0   1   0   1   3   1 240   0   2   0\n",
      "    1   0]\n",
      " [  0   0   0   0   0   0   0   0   0   0   0   0   0   0   0 237   0   1\n",
      "    0   0]\n",
      " [  0   0   0   0   0   0   0   1   1   0   0   1   0   0   0   0 213   0\n",
      "   14   6]\n",
      " [  3   0   0   0   4   0   7   1   5   0   0   0   1   0   0   0   2 230\n",
      "   28   0]\n",
      " [  0   1   0   0   0   0   2   1   0   2   0   3   0   1   2   1  23  14\n",
      "  173  26]\n",
      " [ 56   0   0   0   0   0   1   0   0   0   0   0   0   1   1  12  13   0\n",
      "   20 156]]\n",
      "                          precision    recall  f1-score   support\n",
      "\n",
      "             alt.atheism       0.77      0.79      0.78       254\n",
      "           comp.graphics       0.82      0.74      0.78       253\n",
      " comp.os.ms-windows.misc       0.84      0.81      0.82       261\n",
      "comp.sys.ibm.pc.hardware       0.77      0.83      0.80       244\n",
      "   comp.sys.mac.hardware       0.75      0.90      0.82       230\n",
      "          comp.windows.x       0.86      0.76      0.80       249\n",
      "            misc.forsale       0.79      0.92      0.85       260\n",
      "               rec.autos       0.88      0.93      0.91       226\n",
      "         rec.motorcycles       0.87      0.94      0.91       252\n",
      "      rec.sport.baseball       0.95      0.95      0.95       241\n",
      "        rec.sport.hockey       0.97      0.96      0.96       245\n",
      "               sci.crypt       0.98      0.96      0.97       247\n",
      "         sci.electronics       0.88      0.86      0.87       236\n",
      "                 sci.med       0.96      0.89      0.93       280\n",
      "               sci.space       0.97      0.93      0.95       258\n",
      "  soc.religion.christian       0.94      1.00      0.97       238\n",
      "      talk.politics.guns       0.84      0.90      0.87       236\n",
      "   talk.politics.mideast       0.93      0.82      0.87       281\n",
      "      talk.politics.misc       0.72      0.69      0.71       249\n",
      "      talk.religion.misc       0.67      0.60      0.63       260\n",
      "\n",
      "                accuracy                           0.86      5000\n",
      "               macro avg       0.86      0.86      0.86      5000\n",
      "            weighted avg       0.86      0.86      0.86      5000\n",
      "\n"
     ]
    }
   ],
   "source": [
    "#Demonstrating confusion-matrix and classification report\n",
    "clf=MultinomialNB()\n",
    "clf.fit(x_train_dataset,y_train)\n",
    "y_pred=clf.predict(x_test_dataset)\n",
    "print(\"Score on training data:\",clf.score(x_train_dataset,y_train))\n",
    "print(\"Score on testing data:\",clf.score(x_test_dataset,y_test))\n",
    "print(confusion_matrix(y_test,y_pred))\n",
    "print(classification_report(y_test,y_pred))"
   ]
  },
  {
   "cell_type": "markdown",
   "id": "ffa492bf",
   "metadata": {},
   "source": [
    "## Result:"
   ]
  },
  {
   "cell_type": "markdown",
   "id": "f7961572",
   "metadata": {},
   "source": [
    "The inbuilt Mutinomial Naive Bayes Model gives a score of 0.90 on training data and 0.857 on testing data. Hence, increasing the number of words to 3000 increase the score to some extent and the computational time also increases."
   ]
  }
 ],
 "metadata": {
  "kernelspec": {
   "display_name": "Python 3 (ipykernel)",
   "language": "python",
   "name": "python3"
  },
  "language_info": {
   "codemirror_mode": {
    "name": "ipython",
    "version": 3
   },
   "file_extension": ".py",
   "mimetype": "text/x-python",
   "name": "python",
   "nbconvert_exporter": "python",
   "pygments_lexer": "ipython3",
   "version": "3.10.2"
  }
 },
 "nbformat": 4,
 "nbformat_minor": 5
}
